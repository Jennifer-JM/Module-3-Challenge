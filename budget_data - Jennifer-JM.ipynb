{
 "cells": [
  {
   "cell_type": "code",
   "execution_count": 3,
   "metadata": {},
   "outputs": [
    {
     "data": {
      "text/html": [
       "<div>\n",
       "<style scoped>\n",
       "    .dataframe tbody tr th:only-of-type {\n",
       "        vertical-align: middle;\n",
       "    }\n",
       "\n",
       "    .dataframe tbody tr th {\n",
       "        vertical-align: top;\n",
       "    }\n",
       "\n",
       "    .dataframe thead th {\n",
       "        text-align: right;\n",
       "    }\n",
       "</style>\n",
       "<table border=\"1\" class=\"dataframe\">\n",
       "  <thead>\n",
       "    <tr style=\"text-align: right;\">\n",
       "      <th></th>\n",
       "      <th>Date</th>\n",
       "      <th>Profit/Losses</th>\n",
       "    </tr>\n",
       "  </thead>\n",
       "  <tbody>\n",
       "    <tr>\n",
       "      <th>0</th>\n",
       "      <td>Jan-10</td>\n",
       "      <td>1088983</td>\n",
       "    </tr>\n",
       "    <tr>\n",
       "      <th>1</th>\n",
       "      <td>Feb-10</td>\n",
       "      <td>-354534</td>\n",
       "    </tr>\n",
       "    <tr>\n",
       "      <th>2</th>\n",
       "      <td>Mar-10</td>\n",
       "      <td>276622</td>\n",
       "    </tr>\n",
       "    <tr>\n",
       "      <th>3</th>\n",
       "      <td>Apr-10</td>\n",
       "      <td>-728133</td>\n",
       "    </tr>\n",
       "    <tr>\n",
       "      <th>4</th>\n",
       "      <td>May-10</td>\n",
       "      <td>852993</td>\n",
       "    </tr>\n",
       "    <tr>\n",
       "      <th>...</th>\n",
       "      <td>...</td>\n",
       "      <td>...</td>\n",
       "    </tr>\n",
       "    <tr>\n",
       "      <th>81</th>\n",
       "      <td>Oct-16</td>\n",
       "      <td>-729004</td>\n",
       "    </tr>\n",
       "    <tr>\n",
       "      <th>82</th>\n",
       "      <td>Nov-16</td>\n",
       "      <td>-112209</td>\n",
       "    </tr>\n",
       "    <tr>\n",
       "      <th>83</th>\n",
       "      <td>Dec-16</td>\n",
       "      <td>516313</td>\n",
       "    </tr>\n",
       "    <tr>\n",
       "      <th>84</th>\n",
       "      <td>Jan-17</td>\n",
       "      <td>607208</td>\n",
       "    </tr>\n",
       "    <tr>\n",
       "      <th>85</th>\n",
       "      <td>Feb-17</td>\n",
       "      <td>382539</td>\n",
       "    </tr>\n",
       "  </tbody>\n",
       "</table>\n",
       "<p>86 rows × 2 columns</p>\n",
       "</div>"
      ],
      "text/plain": [
       "      Date  Profit/Losses\n",
       "0   Jan-10        1088983\n",
       "1   Feb-10        -354534\n",
       "2   Mar-10         276622\n",
       "3   Apr-10        -728133\n",
       "4   May-10         852993\n",
       "..     ...            ...\n",
       "81  Oct-16        -729004\n",
       "82  Nov-16        -112209\n",
       "83  Dec-16         516313\n",
       "84  Jan-17         607208\n",
       "85  Feb-17         382539\n",
       "\n",
       "[86 rows x 2 columns]"
      ]
     },
     "execution_count": 3,
     "metadata": {},
     "output_type": "execute_result"
    }
   ],
   "source": [
    "import string\n",
    "import pandas as pd\n",
    "#Create DataFrame\n",
    "df= pd.read_csv(r\"C:\\Users\\Jennifer\\Downloads\\Starter_Code\\Starter_Code\\PyBank\\Resources\\budget_data.csv\")\n",
    "df"
   ]
  },
  {
   "cell_type": "code",
   "execution_count": 4,
   "metadata": {},
   "outputs": [
    {
     "ename": "NameError",
     "evalue": "name 'budget_data' is not defined",
     "output_type": "error",
     "traceback": [
      "\u001b[1;31m---------------------------------------------------------------------------\u001b[0m",
      "\u001b[1;31mNameError\u001b[0m                                 Traceback (most recent call last)",
      "Cell \u001b[1;32mIn[4], line 2\u001b[0m\n\u001b[0;32m      1\u001b[0m \u001b[38;5;66;03m# Get the total no. of months that are in the dataset, by getting total no. of rows\u001b[39;00m\n\u001b[1;32m----> 2\u001b[0m row_count\u001b[38;5;241m=\u001b[39m\u001b[38;5;28mlen\u001b[39m(budget_data)\n\u001b[0;32m      3\u001b[0m Total_Months\u001b[38;5;241m=\u001b[39m row_count\n\u001b[0;32m      4\u001b[0m Total_Months\n",
      "\u001b[1;31mNameError\u001b[0m: name 'budget_data' is not defined"
     ]
    }
   ],
   "source": [
    "# Get the total no. of months that are in the dataset, by getting total no. of rows\n",
    "row_count=len(budget_data)\n",
    "Total_Months= row_count\n",
    "Total_Months"
   ]
  },
  {
   "cell_type": "code",
   "execution_count": null,
   "metadata": {},
   "outputs": [
    {
     "data": {
      "text/plain": [
       "'$22564198'"
      ]
     },
     "execution_count": 465,
     "metadata": {},
     "output_type": "execute_result"
    }
   ],
   "source": [
    "# Calculate net total amount of \"Profit/Losses\"\n",
    "\n",
    "Net_Total_Profit_and_Losses =df['Profit/Losses'].sum()\n",
    "Net_Total_Profit_and_Losses=(f\"${Net_Total_Profit_and_Losses}\")\n",
    "Net_Total_Profit_and_Losses"
   ]
  },
  {
   "cell_type": "code",
   "execution_count": null,
   "metadata": {},
   "outputs": [
    {
     "data": {
      "text/html": [
       "<div>\n",
       "<style scoped>\n",
       "    .dataframe tbody tr th:only-of-type {\n",
       "        vertical-align: middle;\n",
       "    }\n",
       "\n",
       "    .dataframe tbody tr th {\n",
       "        vertical-align: top;\n",
       "    }\n",
       "\n",
       "    .dataframe thead th {\n",
       "        text-align: right;\n",
       "    }\n",
       "</style>\n",
       "<table border=\"1\" class=\"dataframe\">\n",
       "  <thead>\n",
       "    <tr style=\"text-align: right;\">\n",
       "      <th></th>\n",
       "      <th>Date</th>\n",
       "      <th>Profit/Losses</th>\n",
       "      <th>Difference</th>\n",
       "      <th>Total</th>\n",
       "    </tr>\n",
       "  </thead>\n",
       "  <tbody>\n",
       "    <tr>\n",
       "      <th>0</th>\n",
       "      <td>Jan-10</td>\n",
       "      <td>1088983</td>\n",
       "      <td>NaN</td>\n",
       "      <td>NaN</td>\n",
       "    </tr>\n",
       "    <tr>\n",
       "      <th>1</th>\n",
       "      <td>Feb-10</td>\n",
       "      <td>-354534</td>\n",
       "      <td>-1443517.0</td>\n",
       "      <td>-1443517.0</td>\n",
       "    </tr>\n",
       "    <tr>\n",
       "      <th>2</th>\n",
       "      <td>Mar-10</td>\n",
       "      <td>276622</td>\n",
       "      <td>631156.0</td>\n",
       "      <td>-812361.0</td>\n",
       "    </tr>\n",
       "    <tr>\n",
       "      <th>3</th>\n",
       "      <td>Apr-10</td>\n",
       "      <td>-728133</td>\n",
       "      <td>-1004755.0</td>\n",
       "      <td>-1817116.0</td>\n",
       "    </tr>\n",
       "    <tr>\n",
       "      <th>4</th>\n",
       "      <td>May-10</td>\n",
       "      <td>852993</td>\n",
       "      <td>1581126.0</td>\n",
       "      <td>-235990.0</td>\n",
       "    </tr>\n",
       "    <tr>\n",
       "      <th>...</th>\n",
       "      <td>...</td>\n",
       "      <td>...</td>\n",
       "      <td>...</td>\n",
       "      <td>...</td>\n",
       "    </tr>\n",
       "    <tr>\n",
       "      <th>81</th>\n",
       "      <td>Oct-16</td>\n",
       "      <td>-729004</td>\n",
       "      <td>-1627245.0</td>\n",
       "      <td>-1817987.0</td>\n",
       "    </tr>\n",
       "    <tr>\n",
       "      <th>82</th>\n",
       "      <td>Nov-16</td>\n",
       "      <td>-112209</td>\n",
       "      <td>616795.0</td>\n",
       "      <td>-1201192.0</td>\n",
       "    </tr>\n",
       "    <tr>\n",
       "      <th>83</th>\n",
       "      <td>Dec-16</td>\n",
       "      <td>516313</td>\n",
       "      <td>628522.0</td>\n",
       "      <td>-572670.0</td>\n",
       "    </tr>\n",
       "    <tr>\n",
       "      <th>84</th>\n",
       "      <td>Jan-17</td>\n",
       "      <td>607208</td>\n",
       "      <td>90895.0</td>\n",
       "      <td>-481775.0</td>\n",
       "    </tr>\n",
       "    <tr>\n",
       "      <th>85</th>\n",
       "      <td>Feb-17</td>\n",
       "      <td>382539</td>\n",
       "      <td>-224669.0</td>\n",
       "      <td>-706444.0</td>\n",
       "    </tr>\n",
       "  </tbody>\n",
       "</table>\n",
       "<p>86 rows × 4 columns</p>\n",
       "</div>"
      ],
      "text/plain": [
       "      Date  Profit/Losses  Difference      Total\n",
       "0   Jan-10        1088983         NaN        NaN\n",
       "1   Feb-10        -354534  -1443517.0 -1443517.0\n",
       "2   Mar-10         276622    631156.0  -812361.0\n",
       "3   Apr-10        -728133  -1004755.0 -1817116.0\n",
       "4   May-10         852993   1581126.0  -235990.0\n",
       "..     ...            ...         ...        ...\n",
       "81  Oct-16        -729004  -1627245.0 -1817987.0\n",
       "82  Nov-16        -112209    616795.0 -1201192.0\n",
       "83  Dec-16         516313    628522.0  -572670.0\n",
       "84  Jan-17         607208     90895.0  -481775.0\n",
       "85  Feb-17         382539   -224669.0  -706444.0\n",
       "\n",
       "[86 rows x 4 columns]"
      ]
     },
     "execution_count": 466,
     "metadata": {},
     "output_type": "execute_result"
    }
   ],
   "source": [
    "# Calculate changes in the overall period of \"Profit/Losses\"\n",
    "\n",
    "    # Calculate changes, into column no. 3 named \"Difference\"\n",
    "df['Difference'] = df['Profit/Losses'].diff()\n",
    "\n",
    "    # Column \"Difference\" has a NaN valaue in row 0, because row 0 should not be calculated in the changes\n",
    "df.loc[0, 'Difference'] = pd.NA\n",
    "df['Total'] = df['Difference'].cumsum()\n",
    "df"
   ]
  },
  {
   "cell_type": "code",
   "execution_count": null,
   "metadata": {},
   "outputs": [
    {
     "data": {
      "text/plain": [
       "'$-8311.11'"
      ]
     },
     "execution_count": 467,
     "metadata": {},
     "output_type": "execute_result"
    }
   ],
   "source": [
    "    # Get average of changes from \"Difference\" \n",
    "Average=df['Difference'].mean()\n",
    "\n",
    "    # Round average to 2 decimal points\n",
    "Average_of_changes=\"{:.2f}\".format(Average)\n",
    "Average_of_changes=(f\"${Average_of_changes}\")\n",
    "Average_of_changes"
   ]
  },
  {
   "cell_type": "code",
   "execution_count": null,
   "metadata": {},
   "outputs": [
    {
     "data": {
      "text/html": [
       "<div>\n",
       "<style scoped>\n",
       "    .dataframe tbody tr th:only-of-type {\n",
       "        vertical-align: middle;\n",
       "    }\n",
       "\n",
       "    .dataframe tbody tr th {\n",
       "        vertical-align: top;\n",
       "    }\n",
       "\n",
       "    .dataframe thead th {\n",
       "        text-align: right;\n",
       "    }\n",
       "</style>\n",
       "<table border=\"1\" class=\"dataframe\">\n",
       "  <thead>\n",
       "    <tr style=\"text-align: right;\">\n",
       "      <th></th>\n",
       "      <th>Date</th>\n",
       "      <th>Profit/Losses</th>\n",
       "      <th>Difference</th>\n",
       "      <th>Total</th>\n",
       "    </tr>\n",
       "  </thead>\n",
       "  <tbody>\n",
       "    <tr>\n",
       "      <th>49</th>\n",
       "      <td>Feb-14</td>\n",
       "      <td>-946748</td>\n",
       "      <td>-1825558.0</td>\n",
       "      <td>-2035731.0</td>\n",
       "    </tr>\n",
       "    <tr>\n",
       "      <th>73</th>\n",
       "      <td>Feb-16</td>\n",
       "      <td>-1149123</td>\n",
       "      <td>-1808664.0</td>\n",
       "      <td>-2238106.0</td>\n",
       "    </tr>\n",
       "    <tr>\n",
       "      <th>10</th>\n",
       "      <td>Nov-10</td>\n",
       "      <td>-785750</td>\n",
       "      <td>-1736491.0</td>\n",
       "      <td>-1874733.0</td>\n",
       "    </tr>\n",
       "    <tr>\n",
       "      <th>81</th>\n",
       "      <td>Oct-16</td>\n",
       "      <td>-729004</td>\n",
       "      <td>-1627245.0</td>\n",
       "      <td>-1817987.0</td>\n",
       "    </tr>\n",
       "    <tr>\n",
       "      <th>18</th>\n",
       "      <td>Jul-11</td>\n",
       "      <td>-1066544</td>\n",
       "      <td>-1530577.0</td>\n",
       "      <td>-2155527.0</td>\n",
       "    </tr>\n",
       "    <tr>\n",
       "      <th>...</th>\n",
       "      <td>...</td>\n",
       "      <td>...</td>\n",
       "      <td>...</td>\n",
       "      <td>...</td>\n",
       "    </tr>\n",
       "    <tr>\n",
       "      <th>19</th>\n",
       "      <td>Aug-11</td>\n",
       "      <td>323846</td>\n",
       "      <td>1390390.0</td>\n",
       "      <td>-765137.0</td>\n",
       "    </tr>\n",
       "    <tr>\n",
       "      <th>74</th>\n",
       "      <td>Mar-16</td>\n",
       "      <td>355882</td>\n",
       "      <td>1505005.0</td>\n",
       "      <td>-733101.0</td>\n",
       "    </tr>\n",
       "    <tr>\n",
       "      <th>4</th>\n",
       "      <td>May-10</td>\n",
       "      <td>852993</td>\n",
       "      <td>1581126.0</td>\n",
       "      <td>-235990.0</td>\n",
       "    </tr>\n",
       "    <tr>\n",
       "      <th>79</th>\n",
       "      <td>Aug-16</td>\n",
       "      <td>951227</td>\n",
       "      <td>1862002.0</td>\n",
       "      <td>-137756.0</td>\n",
       "    </tr>\n",
       "    <tr>\n",
       "      <th>0</th>\n",
       "      <td>Jan-10</td>\n",
       "      <td>1088983</td>\n",
       "      <td>NaN</td>\n",
       "      <td>NaN</td>\n",
       "    </tr>\n",
       "  </tbody>\n",
       "</table>\n",
       "<p>86 rows × 4 columns</p>\n",
       "</div>"
      ],
      "text/plain": [
       "      Date  Profit/Losses  Difference      Total\n",
       "49  Feb-14        -946748  -1825558.0 -2035731.0\n",
       "73  Feb-16       -1149123  -1808664.0 -2238106.0\n",
       "10  Nov-10        -785750  -1736491.0 -1874733.0\n",
       "81  Oct-16        -729004  -1627245.0 -1817987.0\n",
       "18  Jul-11       -1066544  -1530577.0 -2155527.0\n",
       "..     ...            ...         ...        ...\n",
       "19  Aug-11         323846   1390390.0  -765137.0\n",
       "74  Mar-16         355882   1505005.0  -733101.0\n",
       "4   May-10         852993   1581126.0  -235990.0\n",
       "79  Aug-16         951227   1862002.0  -137756.0\n",
       "0   Jan-10        1088983         NaN        NaN\n",
       "\n",
       "[86 rows x 4 columns]"
      ]
     },
     "execution_count": 468,
     "metadata": {},
     "output_type": "execute_result"
    }
   ],
   "source": [
    "# Calculate greatest increase w/ date and amount\n",
    "    # Sort values in file\n",
    "Sorted= df.sort_values(\"Difference\")\n",
    "Sorted"
   ]
  },
  {
   "cell_type": "code",
   "execution_count": null,
   "metadata": {},
   "outputs": [
    {
     "data": {
      "text/plain": [
       "('Aug-16', ' ($1862002.0)')"
      ]
     },
     "execution_count": 469,
     "metadata": {},
     "output_type": "execute_result"
    }
   ],
   "source": [
    "    # Let GI represent \"Greatest Increase\", get greatest increase w/ date and amount\n",
    "GI=Sorted['Difference'].iloc[[-2]].item()\n",
    "GI_profits=(f\" (${GI})\")\n",
    "GI_Date=Sorted['Date'].iloc[[-2]].item()\n",
    "GI_Date, GI_profits"
   ]
  },
  {
   "cell_type": "code",
   "execution_count": null,
   "metadata": {},
   "outputs": [
    {
     "data": {
      "text/plain": [
       "('Feb-14', ' ($-1825558.0)')"
      ]
     },
     "execution_count": 470,
     "metadata": {},
     "output_type": "execute_result"
    }
   ],
   "source": [
    "# Calculate greatest decrease w/ date and amount\n",
    "    # Let GD represent \"Greatest Decrease\", get greatest decrease w/ date and amount\n",
    "GD=Sorted['Difference'].iloc[[0]].item()\n",
    "GD_profits=(f\" (${GD})\")\n",
    "GD_Date=Sorted['Date'].iloc[[0]].item()\n",
    "GD_Date, GD_profits"
   ]
  },
  {
   "cell_type": "code",
   "execution_count": null,
   "metadata": {},
   "outputs": [
    {
     "name": "stdout",
     "output_type": "stream",
     "text": [
      "Financial Analysis\n",
      "----------------------------\n",
      "Total Months: 86\n",
      "Total: $22564198\n",
      "Average Change: $-8311.11\n",
      "Greatest Increase in Profits: Aug-16 ($1862002.0)\n",
      "Greatest Decrease in Profits: Feb-14 ($-1825558.0)\n"
     ]
    }
   ],
   "source": [
    "# Print results\n",
    "print(\"Financial Analysis\")\n",
    "print(\"----------------------------\")\n",
    "print(\"Total Months: \" +str(Total_Months))\n",
    "print(\"Total: \" +str(Net_Total_Profit_and_Losses))\n",
    "print(\"Average Change: \" +str(Average_of_changes))\n",
    "print(\"Greatest Increase in Profits: \" +str(GI_Date) +str(GI_profits))\n",
    "print(\"Greatest Decrease in Profits: \" +str(GD_Date) +str(GD_profits))\n",
    "\n"
   ]
  },
  {
   "cell_type": "code",
   "execution_count": null,
   "metadata": {},
   "outputs": [],
   "source": [
    "# Export results into text file budget_data.txt \n",
    "\n",
    "with open('budget_data.txt', 'w') as file:\n",
    "    file.write(\"Financial Analysis\\n\\n\")\n",
    "    file.write(\"----------------------------\\n\\n\")\n",
    "    file.write(\"Total Months: 86\\n\\n\")\n",
    "    file.write(\"Total: $22564198 \\n\\n\")\n",
    "    file.write(\"Average Change: $-8311.11 \\n\\n\")\n",
    "    file.write(\"Greatest Increase in Profits: Aug-16 ($1862002)\\n\\n\")\n",
    "    file.write(\"Greatest Decrease in Profits: Feb-14 ($-1825558)\")\n",
    "\n",
    "    "
   ]
  }
 ],
 "metadata": {
  "kernelspec": {
   "display_name": "base",
   "language": "python",
   "name": "python3"
  },
  "language_info": {
   "codemirror_mode": {
    "name": "ipython",
    "version": 3
   },
   "file_extension": ".py",
   "mimetype": "text/x-python",
   "name": "python",
   "nbconvert_exporter": "python",
   "pygments_lexer": "ipython3",
   "version": "3.12.4"
  }
 },
 "nbformat": 4,
 "nbformat_minor": 2
}
